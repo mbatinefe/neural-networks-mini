{
  "cells": [
    {
      "cell_type": "markdown",
      "metadata": {
        "id": "TmnkGJZfzH6O"
      },
      "source": [
        "# Project of COMP3057\n",
        "\n",
        "Welcome to the Project of COMP3057!\n",
        "\n",
        "This project consists of two parts for finishing:\n",
        "\n",
        "- Part 1: Simple Classification with Neural Network\n",
        "- Part 2: Adversarial Examples for Neural Networks.\n",
        "\n",
        "Through trying this project, you are expected to have a brief understanding on:\n",
        "    \n",
        "- How to process data;\n",
        "- How to build a simple network;\n",
        "- The mechanisms of forward and backward propagation;\n",
        "- How to generate adversarial examples with FGSM and PGD methods."
      ]
    },
    {
      "cell_type": "markdown",
      "metadata": {
        "id": "C_qSxY2ezH6Q"
      },
      "source": [
        "## Part 1: Simple Classification with Neural Network\n",
        "\n",
        "In this part, implementing a simple neural network to classify grayscale images of handwritten digits (0 - 9) from the MNIST dataset (in the attachment, i.e., ```images_train.npy/images_test.npy/labels_train.npy/labels_test.npy```). The dataset contains 60,000 training images and 10,000 testing images of handwritten digits. Each image is 28×28 pixels in size, and is generally represented as a flat vector of 784 numbers. It also includes labels for each example, a number indicating the actual digit (0 - 9) handwritten in that image."
      ]
    },
    {
      "cell_type": "code",
      "execution_count": 158,
      "metadata": {
        "id": "8H9H2p1xzH6R"
      },
      "outputs": [],
      "source": [
        "# MUSTAFA BATIN EFE\n",
        "import random\n",
        "import numpy as np\n",
        "import matplotlib.pyplot as plt\n",
        "\n",
        "from tqdm import tqdm"
      ]
    },
    {
      "cell_type": "markdown",
      "metadata": {
        "id": "3eQzD94jzH6R"
      },
      "source": [
        "__TASK 1. Please realize an util function: <em>one_hot_labels</em>.__\n",
        "\n",
      ]
    },
    {
      "cell_type": "code",
      "execution_count": 159,
      "metadata": {
        "id": "MXTJBzy4zH6S"
      },
      "outputs": [],
      "source": [
        "def one_hot_labels(labels):\n",
        "    one_hot_labels = np.zeros((labels.size, 10))\n",
        "\n",
        "    # Following for loop helps us to iterate through each labels\n",
        "    for x, label in enumerate(labels):\n",
        "      # It keeps track of the indeX and set right the position in one hot labels\n",
        "      one_hot_labels[x, label] = 1\n",
        "\n",
        "    return one_hot_labels"
      ]
    },
    {
      "cell_type": "markdown",
      "metadata": {
        "id": "0soWRDJ1zH6S"
      },
      "source": [
        "To begin with, MNIST dataset is loaded from the following files:\n",
        "\n",
        "    images_train.npy: 60k images with normalized features, the dimension of image features is 784.\n",
        "    images_test.npy\n",
        "    labels_train.npy: corresponding numerical labels (0-9).\n",
        "    labels_test.npy\n",
        "    \n",
        "Note that, the original training images and labels are separated into a set of 50k data for training and 10k data for validation."
      ]
    },
    {
      "cell_type": "code",
      "execution_count": 160,
      "metadata": {
        "id": "hqyW0owIzH6S"
      },
      "outputs": [],
      "source": [
        "# Function for reading data&labels from files\n",
        "def readData(images_file, labels_file):\n",
        "    x = np.load(images_file)\n",
        "    y = np.load(labels_file)\n",
        "    return x, y"
      ]
    },
    {
      "cell_type": "markdown",
      "metadata": {
        "id": "1r69t9JPzH6T"
      },
      "source": [
        "__TASK 2. Shuffle the data__\n",
        "\n",
        "As it is known to us, in order to avoid some potential factors that influence the learning process of the model, shuffled data are preferred. Thus, please complete data by adding shuffle operations."
      ]
    },
    {
      "cell_type": "code",
      "execution_count": 161,
      "metadata": {
        "id": "Z4Xz2tqRzH6T"
      },
      "outputs": [],
      "source": [
        "def prepare_data():\n",
        "\n",
        "    trainData, trainLabels = readData('images_train.npy', 'labels_train.npy')\n",
        "    trainLabels = one_hot_labels(trainLabels)\n",

        "\n",
        "    trainInx = np.arange(trainData.shape[0])\n",
        "    np.random.shuffle(trainInx)\n",
        "    trainData = trainData[trainInx]\n",
        "    trainLabels = trainLabels[trainInx]\n",
        "\n",

        "\n",
        "    valData = trainData[0:10000,:]\n",
        "    valLabels = trainLabels[0:10000,:]\n",
        "    trainData = trainData[10000:,:]\n",
        "    trainLabels = trainLabels[10000:,:]\n",
        "\n",
        "\n",
        "    testData, testLabels = readData('images_test.npy', 'labels_test.npy')\n",
        "    testLabels = one_hot_labels(testLabels)\n",
        "\n",
        "    return trainData, trainLabels, valData, valLabels, testData, testLabels\n",
        "\n",
        "# load data for train, validation, and test.\n",
        "trainData, trainLabels, devData, devLabels, testData, testLabels = prepare_data()"
      ]
    },
    {
      "cell_type": "markdown",
      "metadata": {
        "id": "-uPeO5DCzH6T"
      },
      "source": [
        "__TASK 3. Please realize the softmax function as well as the sigmoid function: <em>softmax(x)</em> and <em>sigmoid(x)</em>.__\n",
        "\n",
        "The $k$-th element of softmax is calculated via:\n",
        "\n",
        "$softmax(x)_k=\\frac {e^{x_k}}{\\sum_j e^{x_j}}=\\frac {e^{x_k+c}}{\\sum_j e^{x_j+c}}$\n",
        "\n",
        "The last equation holds since adding a constant won't change softmax results. Note that, you may encounter an overflow when softmax computes the exponential, so please using the 'max' tricks to avoid this problem.  \n",
        "\n",
        "The sigmoid is calculated by:\n",
        "\n",
        "$sigmoid(x)=\\frac {1}{1+e^{-x}} = \\frac {e^x}{e^x + 1}$\n",
        "\n",
        "For numerical stability, please use the 1st equation for positive inputs, and the 2nd equation for negative inputs."
      ]
    },
    {
      "cell_type": "code",
      "execution_count": 162,
      "metadata": {
        "id": "BFnRQ6xKzH6U"
      },
      "outputs": [],
      "source": [
        "def softmax(x):\n",
        "    \"\"\"\n",
        "    x is of shape: batch_size * #class\n",
        "    \"\"\"\n",

        "\n",
        "    # If x is 1D array -> single\n",
        "    if x.ndim == 1:\n",
        "      exps = np.exp(x - np.max(x))\n",
        "      s = exps / np.sum(exps)\n",
        "    else:\n",
        "      # If x is batch of examples\n",
        "      exps = np.exp(x - np.max(x, axis=1, keepdims=True))\n",
        "      s = exps / np.sum(exps, axis=1, keepdims=True)\n",
        "\n",

        "    return s\n",
        "\n",
        "def sigmoid(x):\n",
        "    \"\"\"\n",
        "    x is of shape: batch_size * dim_hidden\n",
        "    \"\"\"\n",

        "\n",
        "    s = np.where(x >= 0, 1 / (1 + np.exp(-x)), np.exp(x) / (1 + np.exp(x)))\n",
        "\n",

        "    return s"
      ]
    },
    {
      "cell_type": "markdown",
      "metadata": {
        "id": "Vk27kSWxzH6U"
      },
      "source": [
        "__TASK 4. Please try to build a learning model according to the following instructions.__\n",
        "\n",
        "\n",
        "\n",
        "__1. Complete the forward propagation function.__\n",
        "\n",
        "It is time to realize the forward propagation for a 2-layer neural network. Here, sigmoid is used as the activation function, and the softmax is used as the link function. Formally,\n",
        "\n",
        "hidden layer: $h=sigmoid(z_1)=sigmoid(x W_1+b_1)$\n",
        "\n",
        "output layer: $\\hat y = softmax(z_2) = softmax(h W_2 + b_2)$\n",
        "\n",
        "loss: $L = CE(y,\\hat y)=-\\sum_{k=1}^K y_k \\log \\hat y_k$\n",
        "\n",
        "Therein, $z_1, z_2$ are the outputs (before activation function) from the hidden layer and output layer; $W_1, b_1, W_2$, and $b_2$ are the learnable parameters. Concretely, $W_1$ and $b_1$ denote the weight matrix and the bias vector for the hidden layer of the network. Similarly, $W_2$ and $b_2$ are the weights and biases for the output layer.  Note that, in computing the loss value, we should use np.log(y+1e-16) instead of np.log(y) to avoid NaN (Not a Number) error in the case log(0).\n",
        "\n",
        "__2. Complete the calculation of gradients.__\n",
        "\n",
        "Based on the forward_pass function, you can implement the corresponding function for backward propagation.\n",
        "\n",
        "In order to help you have a better understanding of backward propagation process, please calculate the gradients by hand first and complete the codes. (The gradients include the gradients of $z_2$, $W_2$, $b_2$, $h$, $z_1$, $W_1$, $b1$.) **Please present the calculation process in the cell below with markdown.**"
      ]
    },
    {
      "cell_type": "markdown",
      "metadata": {
        "id": "C9mBRc4YzH6U"
      },
      "source": [
        "__Gradient Calculation Cell:__\n",
        "\n",
        "Please present the calculation process in this cell."
      ]
    },
    {
      "cell_type": "code",
      "execution_count": 163,
      "metadata": {
        "id": "hmwIFxLMzH6V"
      },
      "outputs": [],
      "source": [
        "class Model(object):\n",
        "\n",
        "    def __init__(self, input_dim, num_hidden, output_dim, batchsize, learning_rate, reg_coef):\n",
        "        '''\n",
        "        Args:\n",
        "            input_dim: int. The dimension of input features;\n",
        "            num_hidden: int. The dimension of hidden units;\n",
        "            output_dim: int. The dimension of output features;\n",
        "            batchsize: int. The batchsize of the data;\n",
        "            learning_rate: float. The learning rate of the model;\n",
        "            reg_coef: float. The coefficient of the regularization.\n",
        "        '''\n",
        "        self.W1 = np.random.standard_normal((input_dim, num_hidden))\n",
        "        self.b1 = np.zeros((1, num_hidden), dtype=float)\n",
        "        self.W2 = np.random.standard_normal((num_hidden, output_dim))\n",
        "        self.b2 = np.zeros((1, output_dim))\n",
        "\n",
        "        self.reg_coef = reg_coef\n",
        "        self.bsz = batchsize\n",
        "        self.lr = learning_rate\n",
        "\n",
        "    def forward_pass(self, data, labels):\n",
        "        \"\"\"\n",
        "        return hidder layer, output(softmax) layer and loss\n",
        "            data is of shape: batch_size * dim_x\n",
        "            labels is of shape: batch_size * #class\n",
        "        \"\"\"\n",
        "\n",
        "        # Now we calculate loss with weight and biases\n",
        "\n",
        "        z_1 = np.dot(data, self.W1) + self.b1\n",
        "        h = sigmoid(z_1)\n",
        "\n",
        "        z_2 = np.dot(h, self.W2) + self.b2\n",
        "        y_hat = softmax(z_2)\n",
        "\n",
        "        epsilonNum = 1e-16\n",
        "        loss = -np.sum(labels * np.log(y_hat + epsilonNum)) / self.bsz\n",
        "\n",
        "        return h, y_hat, loss\n",
        "\n",
        "    def optimize_params(self, h, y_hat, data, labels):\n",
        "\n",
        "        # Compute gradients for second layer\n",
        "        dz_2 = (y_hat - labels) / data.shape[0]\n",
        "        grad_W2 = np.dot(h.T, dz_2)\n",
        "        grad_b2 = np.sum(dz_2, axis=0, keepdims=True)\n",
        "\n",
        "        # Compute gradients for first layer\n",
        "        dz_1 = np.dot(dz_2, self.W2.T)\n",
        "        grad_W1 = np.dot(data.T, dz_1)\n",
        "        grad_b1 = np.sum(dz_1, axis=0, keepdims=True)\n",
        "\n",
        "        if self.reg_coef > 0:\n",
        "            grad_W2 += self.reg_coef*self.W2\n",
        "            grad_W1 += self.reg_coef*self.W1\n",
        "\n",
        "        grad_W2 /= self.bsz\n",
        "        grad_W1 /= self.bsz\n",
        "\n",
        "        self.W1 -= self.lr * grad_W1\n",
        "        self.b1 -= self.lr * grad_b1\n",
        "        self.W2 -= self.lr * grad_W2\n",
        "        self.b2 -= self.lr * grad_b2"
      ]
    },
    {
      "cell_type": "code",
      "execution_count": 164,
      "metadata": {
        "id": "DLZPaugkzH6V"
      },
      "outputs": [],
      "source": [
        "def calc_accuracy(y, labels):\n",
        "    \"\"\"\n",
        "    return accuracy of y given (true) labels.\n",
        "    \"\"\"\n",
        "    pred = np.zeros_like(y)\n",
        "    pred[np.arange(y.shape[0]), np.argmax(y, axis=1)] = 1\n",
        "    res = np.abs((pred - labels)).sum(axis=1)\n",
        "    acc = res[res == 0].shape[0] / res.shape[0]\n",
        "    return acc"
      ]
    },
    {
      "cell_type": "markdown",
      "metadata": {
        "id": "9gY-GayIzH6W"
      },
      "source": [
        "__TASK 5. Please complete the training procedure: <em>nn_train(trainData, trainLabels, devData, devLabels, **argv)</em>.__\n",
        "\n",
        "As a convention, parameters $W_1, W_2$ should be randomly initialized with standard gaussian variables, and parameters $b_1, b_2$ should initialized by 0. You can run nn_train with different values of the hyper-parameter reg_strength to validate the impact of the regularization to the network performance (e.g. reg_strength=0.5)."
      ]
    },
    {
      "cell_type": "code",
      "execution_count": 165,
      "metadata": {
        "colab": {
          "base_uri": "https://localhost:8080/"
        },
        "id": "G0nXg6g9zH6W",
        "outputId": "47db1951-7b27-4a61-a07f-070a590bbf35"
      },
      "outputs": [
        {
          "output_type": "stream",
          "name": "stderr",
          "text": [
            "\r  0%|          | 0/30 [00:00<?, ?it/s]<ipython-input-162-37ce960be36c>:25: RuntimeWarning: overflow encountered in exp\n",
            "  s = np.where(x >= 0, 1 / (1 + np.exp(-x)), np.exp(x) / (1 + np.exp(x)))\n",
            "<ipython-input-162-37ce960be36c>:25: RuntimeWarning: invalid value encountered in divide\n",
            "  s = np.where(x >= 0, 1 / (1 + np.exp(-x)), np.exp(x) / (1 + np.exp(x)))\n",
            "100%|██████████| 30/30 [02:49<00:00,  5.66s/it]\n"
          ]
        }
      ],
      "source": [
        "def nn_train(trainData, trainLabels, devData, devLabels,\n",
        "             num_hidden=300, learning_rate=5, batch_size=1000, num_epochs=30,\n",
        "             reg_strength=0):\n",
        "    (m, n) = trainData.shape\n",
        "    params = {}\n",
        "\n",
        "    N = m\n",
        "    D = n\n",
        "    K = trainLabels.shape[1]\n",
        "    H = num_hidden\n",
        "    B = batch_size\n",
        "\n",
        "    model = Model(input_dim=n, num_hidden=H, output_dim=K,\n",
        "                  batchsize=B, learning_rate=learning_rate, reg_coef=reg_strength)\n",
        "\n",
        "    num_iter = int(N / B)\n",
        "    tr_loss, tr_metric, dev_loss, dev_metric = [], [], [], []\n",
        "    for i in tqdm(range(num_epochs)):\n",
        "        for j in range(num_iter):\n",
        "            batch_data = trainData[j * B: (j + 1) * B]\n",
        "            batch_labels = trainLabels[j * B: (j + 1) * B]\n",

        "\n",
        "            # Now we will forward pass and optimization of parameters for batch\n",
        "            h, y_hat, loss = model.forward_pass(batch_data, batch_labels)\n",
        "            model.optimize_params(h, y_hat, batch_data, batch_labels)\n",
        "\n",

        "\n",
        "        _, _y, _cost = model.forward_pass(trainData, trainLabels)\n",
        "        tr_loss.append(_cost)\n",
        "        tr_metric.append(calc_accuracy(_y, trainLabels))\n",
        "        _, _y, _cost = model.forward_pass(devData, devLabels)\n",
        "        dev_loss.append(_cost)\n",
        "        dev_metric.append(calc_accuracy(_y, devLabels))\n",
        "\n",
        "    return model, tr_loss, tr_metric, dev_loss, dev_metric\n",
        "\n",
        "num_epochs = 30\n",
        "model, tr_loss, tr_metric, dev_loss, dev_metric = nn_train(\n",
        "    trainData, trainLabels, devData, devLabels, num_epochs=num_epochs)"
      ]
    },
    {
      "cell_type": "markdown",
      "metadata": {
        "id": "itj9n9K9zH6W"
      },
      "source": [
        "After training, we can plot the training and validation loss/accuracy curves to assess the model and the learning procedure."
      ]
    },
    {
      "cell_type": "code",
      "execution_count": 169,
      "metadata": {
        "scrolled": true,
        "colab": {
          "base_uri": "https://localhost:8080/",
          "height": 388
        },
        "id": "p7XhU5R6zH6W",
        "outputId": "31a15e0d-1680-4075-8367-03068ff4b4bd"
      },
      "outputs": [
        {
          "output_type": "display_data",
          "data": {
            "text/plain": [
              "<Figure size 1200x400 with 2 Axes>"
            ],
            "image/png": "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\n"
          },
          "metadata": {}
        }
      ],
      "source": [
        "xs = np.arange(num_epochs)\n",
        "\n",
        "fig, axes = plt.subplots(1, 2, sharex=True, sharey=False, figsize=(12, 4))\n",
        "ax0, ax1 = axes.ravel()\n",
        "\n",
        "ax0.plot(xs, tr_loss, label='train loss')\n",
        "ax0.plot(xs, dev_loss, label='dev loss')\n",
        "ax0.legend()\n",
        "ax0.set_xlabel('# epoch')\n",
        "ax0.set_ylabel('CE loss')\n",
        "\n",
        "ax1.plot(xs, tr_metric, label='train acc')\n",
        "ax1.plot(xs, dev_metric, label='dev acc')\n",
        "ax1.legend()\n",
        "ax1.set_xlabel('# epoch')\n",
        "ax1.set_ylabel('Accuracy')\n",
        "\n",
        "plt.show()"
      ]
    },
    {
      "cell_type": "markdown",
      "metadata": {
        "id": "rm8WyfbtzH6W"
      },
      "source": [
        "Finally, we should evaluate the model performance on test data."
      ]
    },
    {
      "cell_type": "code",
      "execution_count": 170,
      "metadata": {
        "colab": {
          "base_uri": "https://localhost:8080/"
        },
        "id": "Heq9dYaPzH6X",
        "outputId": "df6a8a92-490b-4ca4-d730-877174799cc4"
      },
      "outputs": [
        {
          "output_type": "stream",
          "name": "stdout",
          "text": [
            "Test accuracy: 0.7768\n"
          ]
        },
        {
          "output_type": "stream",
          "name": "stderr",
          "text": [
            "<ipython-input-162-37ce960be36c>:25: RuntimeWarning: overflow encountered in exp\n",
            "  s = np.where(x >= 0, 1 / (1 + np.exp(-x)), np.exp(x) / (1 + np.exp(x)))\n",
            "<ipython-input-162-37ce960be36c>:25: RuntimeWarning: invalid value encountered in divide\n",
            "  s = np.where(x >= 0, 1 / (1 + np.exp(-x)), np.exp(x) / (1 + np.exp(x)))\n"
          ]
        }
      ],
      "source": [
        "def nn_test(data, labels):\n",
        "    h, output, cost = model.forward_pass(data, labels)\n",
        "    accuracy = accuracy = (np.argmax(output,axis=1) == np.argmax(labels,axis=1)).sum() * 1. / labels.shape[0]\n",
        "    return accuracy\n",
        "\n",
        "accuracy = nn_test(testData, testLabels)\n",
        "print('Test accuracy: {0}'.format(accuracy))"
      ]
    },
    {
      "cell_type": "markdown",
      "metadata": {
        "id": "gpFL4Z9TzH6X"
      },
      "source": [
        "## Part 2: Adversarial Examples for Neural Networks\n",
        "\n",
        "It has been seen that many classifiers, including neural networks, are highly susceptible to what are called adversarial examples -- small perturbations of the input that cause a classifier to misclassify, but are imperceptible to humans. For example, making a small change to an image of a stop sign might cause an object detector in an autonomous vehicle to classify it as an yield sign, which could lead to an accident.\n",
        "\n",
        "In this part, we will see **how to construct adversarial examples for neural networks**, and you are given a 3-hidden layer perceptron trained on the MNIST dataset for this purpose.\n",
        "\n",
        "Since we are interested in constructing the countersample rather than the original classification task, we do not need to worry too much about the design of the neural network and the processing of the data (which are already given). The parameters of the perceptron can be loaded from fc\\*.weight,npy and fc\\*.bias.npy. The test dataset can be loaded from X_test.npy and Y_test.npy. Each image of MNIST is 28×28 pixels in size, and is generally represented as a flat vector of 784 numbers. It also includes labels for each example, a number indicating the actual digit (0 - 9) handwritten in that image.\n",
        "\n",
        "**Enjoy practicing generating adversarial examples and have fun!**"
      ]
    },
    {
      "cell_type": "code",
      "execution_count": 171,
      "metadata": {
        "id": "9DlZ2JZBzH6X"
      },
      "outputs": [],
      "source": [
        "from __future__ import print_function\n",
        "import numpy as np\n",
        "import matplotlib.pyplot as plt"
      ]
    },
    {
      "cell_type": "markdown",
      "metadata": {
        "id": "GDI7w7eVzH6Y"
      },
      "source": [
        "First, we need to define some functions for later computing.\n",
        "\n",
        "__TASK 1. Please realize the following functions:__\n",
        "\n",
        "relu: The relu function is calculated as:\n",
        "\n",
        "$$\n",
        "relu(x)=max(0,x)\n",
        "$$\n",
        "\n",
        "relu_grad: The relu_grad is used to compute the gradient of relu function as:\n",
        "\n",
        "$$\n",
        "relu\\_grad(x)=(1(x>0),0(x \\leq 0))\n",
        "$$\n",
        "\n"
      ]
    },
    {
      "cell_type": "code",
      "execution_count": 172,
      "metadata": {
        "id": "dpSC2UhUzH6Y"
      },
      "outputs": [],
      "source": [
        "def relu(x):\n",
        "    '''\n",
        "    Input\n",
        "        x: a vector in ndarray format\n",
        "    Output\n",
        "        relu_x: a vector in ndarray format,\n",
        "        representing the ReLu activation of x.\n",
        "    '''\n",

        "\n",
        "    # ReLU activation\n",
        "    # Replace negative values with 0 and keep positive values unchanged\n",
        "    relu_x = np.maximum(0, x)\n",
        "\n",

        "    return relu_x\n",
        "\n",
        "def relu_grad(x):\n",
        "    '''\n",
        "    Input\n",
        "        x: a vector in ndarray format\n",
        "    Output\n",
        "        relu_grad_x: a vector in ndarray format,\n",
        "        representing the gradient of ReLu activation.\n",
        "    '''\n",

        "\n",
        "    # Gradient of relu we do 1 for positive and 0 for others\n",
        "    relu_grad_x = np.where(x > 0, 1, 0)\n",
        "\n",

        "    return relu_grad_x\n",
        "\n",
        "def cross_entropy(y, y_hat):\n",
        "    '''\n",
        "    Input\n",
        "        y: an int representing the class label\n",
        "        y_hat: a vector in ndarray format showing the predicted\n",
        "           probability of each class.\n",
        "\n",
        "    Output\n",
        "        the cross entropy loss.\n",
        "    '''\n",
        "    etp = one_hot_labels(y)*np.log(y_hat+1e-16)\n",
        "    loss = -np.sum(etp)\n",
        "    return loss\n",
        "\n"
      ]
    },
    {
      "cell_type": "markdown",
      "metadata": {
        "id": "5BjuuoLrzH6Y"
      },
      "source": [
        "Next, we define the structure and some utility functions of our multi-layer perceptron.\n",
        "\n",
        "\n",
        "The neural net is a fully-connected multi-layer perceptron with three hidden layers. The hidden layers contains 2048, 512 and 512 hidden nodes respectively. We use ReLU as the activation function at each hidden node. The last intermediate layer’s output is passed through a softmax function, and the loss is measured as the cross-entropy between the resulted probability vector and the true label.\n",
        "\n",
        "\n",
        "    x: the input image vector with dimension 1x784.\n",
        "    y: the true class label of x.\n",
        "    zi: the value of the i-th intermediate layer before activation, with dimension 1x2048, 1x512, 1x512 and 1x10 for i = 1, 2, 3, 4.\n",
        "    hi: the value of the i-th intermediate layer after activation, with dimension 1x2048, 1x512 and 1x512 for i = 1, 2, 3.\n",
        "    p: the predicted class probability vector after the softmax function, with dimension 1x10.\n",
        "    Wi: the weights between the (i - 1)-th and the i-th intermediate layer. For simplicity, we use h0 as an alias to x. Each Wi has dimension li_1 x li, where li is the number of nodes in the i-th layer. For example, W1 ha dimension 784x2048.\n",
        "    bi: the bias between the (i - 1)-th and the i-th intermediate layer. The dimension is 1 x li.\n",
        "\n",
        "__TASK 2. Please realize the forward propogation and the gradient calculation:__\n",
        "\n",
        " The forward propagation rules are as follows.\n",
        "$$\n",
        "z^i = h^{i-1} \\cdot W^i + b^i, i = 1, 2, 3, 4.\n",
        "$$\n",
        "\n",
        "$$\n",
        "z^i = h^{i-1} \\cdot W^i + b^i, i = 1, 2, 3.\n",
        "$$\n",
        "\n",
        "$$\n",
        "p = Softmax(z^4)\n",
        "$$\n",
        "\n",
        "The gradient calculation rules are as follows.\n",
        "\n",
        "Let L denote the cross entropy loss of an image-label pair (x, y). We are interested in the gradient of L w.r.t. x, and move x in the direction of (the sign of) the gradient to increase L. If L becomes large, the new image x_adv will likely be misclassified.\n",
        "\n",
        "We use chain rule for gradient computation. Again, let h0 be the alias of x. We have:\n",
        "$$\n",
        "\\frac{\\delta L}{\\delta x} =  \\frac{\\delta L}{\\delta z^4} \\frac{\\delta z^4}{\\delta h^3} \\prod_{i=1}^{3} \\{ \\frac{\\delta h^i}{\\delta z^i} \\frac{\\delta z^i}{\\delta h^{i-1}} \\}\n",
        "$$\n",
        "\n",
        "The intermediate terms can be computed as follows.\n",
        "\n",
        "$$\n",
        "\\frac{\\delta L}{z^4} = p - one\\_hot(y)\n",
        "$$\n",
        "\n",
        "$$\n",
        "\\frac{z^i}{h^{i-1}} = (W^i)^T\n",
        "$$\n",
        "\n",
        "$$\n",
        "\\frac{\\delta h^i}{\\delta z^i}=relu\\_grad(z^i)\n",
        "$$\n",
        "\n",
        "__TASK 3. Please generate the $L_{\\infty}$ & $L_2$ adversarial examples based on the gradient.__\n",
        "\n",
        "We begin with deriving a simple way of constructing an adversarial example around an input (x, y).\n",
        "Supppose we denote our neural network by a function f: X $\\rightarrow$ {0,...,9}.\n",
        "Suppose we want to find a small perturbation $\\Delta$ of x such that the neural network f assigns a label different from y to x+$\\Delta$. To find such a $\\Delta$, we want to increase the cross-entropy loss of the network f at (x, y); in other words, we want to take a small step $\\Delta$ along which the cross-entropy loss increases, thus causing a misclassification. We can write this as a gradient ascent update, and to ensure that we only take a small step, we can just use the sign of each coordinate of the gradient. The final algorithm is this:\n",
        "\n",
        "$$\n",
        "x_{adv} = x + \\epsilon \\cdot sign (\\nabla L(f(x), y))\n",
        "$$\n",
        "\n",
        "where L is the cross-entropy loss, and it is known as the **Fast Gradient Sign Method (FGSM)**.\n",
        "\n",
        "From the angle of image processing, digital images often use only 8 bits per pixel, so they discard all information below $\\frac{1}{255}$ of the dynamic range. Because the precision of the feeatures is limited, it is not rational for the classifier to respond differently to an input than to an adversarial input if every element of the perturbation is smaller than the precision of the features. Thus, it is expected that both original input and adversarial input are assigned to the same class if the perturbation $sign (\\nabla L(f(x), y))$ satistifies $||sign (\\nabla L(f(x), y))||_{\\infty}<\\epsilon$. In practical, the constraint is applied as:\n",
        "\n",
        "$$0.0<x_{adv}<1.0.$$\n",
        "\n",
        " **Please apply this constraint on the algorithm.**\n",
        "\n",
        "As shown above, **FGSM** is a single-step scheme. Next, we would like to introduce a multi-step scheme, **Projected Gradient Descent(PGD)**.\n",
        "Different from **FGSM**, **PGD** takes several steps for more powerful adversarial examples:\n",
        "$$\n",
        "x^{t+1} = \\prod_{x+S}(x^t + \\alpha\\cdot sign(\\nabla_{x}L(\\theta, x, y)).\n",
        "$$\n",
        "\n",
        "Specifically, first initializing $x_{adv}$ with x.\n",
        "\n",
        "Then, for each step, the following operations are conducted:\n",
        "\n",
        "- Compute the loss $L(\\theta, x_{adv}, y)$;\n",
        "- Compute the gradients of input $x$: $\\nabla_{x_{adv}} L(\\theta, x_{adv}, y)$;\n",
        "- Normalize the gradients above with $L_2$-Norm;\n",
        "- Generate intermediate adversaray:\n",
        "    $$x^t_{adv} = x^{t-1}_{adv}+\\alpha\\cdot sign(\\nabla_{x_{adv}} L(\\theta, x_{adv}, y));$$\n",
        "- Normalize the $\\epsilon$ with the perturbation $\\delta$'s $L_2$-Norm:\n",
        "    $$\\hat{\\epsilon} = \\frac{\\epsilon}{||\\delta||_2}, where\\quad \\delta = x^t_{adv}-x;$$\n",
        "    \n",
        "    $$\\hat{\\epsilon_i} = min(\\epsilon_i, 1)$$\n",
        "- Get the adversarial example:\n",
        "    $$x^t_{adv} = x + \\hat{\\epsilon}\\cdot\\delta;$$\n",
        "- Apply the constraint on the adversary.\n"
      ]
    },
    {
      "cell_type": "code",
      "execution_count": 173,
      "metadata": {
        "id": "PhkYZxE3zH6Z"
      },
      "outputs": [],
      "source": [
        "class MultiLayerPerceptron():\n",
        "    '''\n",
        "    This class defines the multi-layer perceptron we will be using\n",
        "    as the attack target.\n",
        "\n",
        "    '''\n",
        "    def __init__(self):\n",
        "        pass\n",
        "\n",
        "    def load_params(self, params):\n",
        "        '''\n",
        "        This method loads the weights and biases of a trained model.\n",
        "        '''\n",
        "        self.W1 = params[\"fc1.weight\"]\n",
        "        self.b1 = params[\"fc1.bias\"]\n",
        "        self.W2 = params[\"fc2.weight\"]\n",
        "        self.b2 = params[\"fc2.bias\"]\n",
        "        self.W3 = params[\"fc3.weight\"]\n",
        "        self.b3 = params[\"fc3.bias\"]\n",
        "        self.W4 = params[\"fc4.weight\"]\n",
        "        self.b4 = params[\"fc4.bias\"]\n",
        "\n",
        "    def set_attack_budget(self, eps):\n",
        "        '''\n",
        "        This method sets the maximum L_infty norm of the adversarial\n",
        "        perturbation.\n",
        "        '''\n",
        "        self.eps = eps\n",
        "\n",
        "    def forward(self, x):\n",
        "        '''\n",
        "        This method finds the predicted probability vector of an input\n",
        "        image x.\n",
        "\n",
        "        Input\n",
        "            x: a single image vector in ndarray format\n",
        "        Ouput\n",
        "            self.p: a vector in ndarray format representing the predicted class\n",
        "            probability of x.\n",
        "\n",
        "        Intermediate results are stored as class attributes.\n",
        "        You might need them for gradient computation.\n",
        "        '''\n",
        "        W1, W2, W3, W4 = self.W1, self.W2, self.W3, self.W4\n",
        "        b1, b2, b3, b4 = self.b1, self.b2, self.b3, self.b4\n",
        "\n",
        "        self.z1 = np.matmul(x,W1)+b1\n",
        "        #######################################\n",

        "\n",
        "        # Forward pass through network with ReLU activations\n",
        "        self.a1 = relu(self.z1)\n",
        "        self.z2 = np.matmul(self.a1, W2) + b2\n",
        "        self.a2 = relu(self.z2)\n",
        "        self.z3 = np.matmul(self.a2, W3) + b3\n",
        "        self.a3 = relu(self.z3)\n",
        "        self.z4 = np.matmul(self.a3, W4) + b4\n",
        "        self.p = softmax(self.z4)\n",
        "\n",

        "        #######################################\n",
        "\n",
        "        return self.p\n",
        "\n",
        "    def predict(self, x):\n",
        "        '''\n",
        "        This method takes a single image vector x and returns the\n",
        "        predicted class label of it.\n",
        "        '''\n",
        "        res = self.forward(x)\n",
        "        return np.argmax(res)\n",
        "\n",
        "\n",
        "    def gradient(self,x,y):\n",
        "        '''\n",
        "        This method finds the gradient of the cross-entropy loss\n",
        "        of an image-label pair (x,y) w.r.t. to the image x.\n",
        "\n",
        "        Input\n",
        "            x: the input image vector in ndarray format\n",
        "            y: the true label of x\n",
        "\n",
        "        Output\n",
        "            grad: a vector in ndarray format representing\n",
        "            the gradient of the cross-entropy loss of (x,y)\n",
        "            w.r.t. the image x.\n",
        "        '''\n",
        "\n",
        "        #######################################\n",

        "\n",
        "        # Forward pass to get predicted probabilities\n",
        "        p = self.forward(x)\n",
        "\n",
        "        # Initialize gradient with predicted probabilities\n",
        "        grad = p.copy()\n",
        "\n",
        "        # Update gradient based on the true label y\n",
        "        grad[y] -= 1\n",
        "\n",
        "        # Backward pass to calculate gradient w.r.t. the input x\n",
        "        dL_dz4 = grad\n",
        "        dL_da3 = np.dot(dL_dz4, self.W4.T)\n",
        "        dL_dz3 = dL_da3 * relu_grad(self.z3)\n",
        "        dL_da2 = np.dot(dL_dz3, self.W3.T)\n",
        "        dL_dz2 = dL_da2 * relu_grad(self.z2)\n",
        "        dL_da1 = np.dot(dL_dz2, self.W2.T)\n",
        "        dL_dz1 = dL_da1 * relu_grad(self.z1)\n",
        "        grad = np.dot(dL_dz1, self.W1.T)\n",
        "\n",

        "        #######################################\n",
        "        return grad\n",
        "\n",
        "    def attack(self, x, y, attack_mode, epsilon, alpha=2./255.):\n",
        "        '''\n",
        "        This method generates the adversarial example of an\n",
        "        image-label pair (x,y).\n",
        "\n",
        "        Input\n",
        "            x: an image vector in ndarray format, representing\n",
        "               the image to be corrupted.\n",
        "            y: the true label of the image x.\n",
        "            attack_mode: str. Choice of the mode of attack. The mode can be selected from ['no_constraint', 'L-inf', 'L2'];\n",
        "            epsilon: float. Hyperparameter for generating perturbations;\n",
        "            pgd_steps: int. Number of steps for running PGD algorithm;\n",
        "            alpha: float. Hyperparameter for generating adversarial examples in each step of PGD;\n",
        "\n",
        "        Output\n",
        "            x_adv: a vector in ndarray format, representing\n",
        "            the adversarial example created from image x.\n",
        "        '''\n",
        "\n",
        "        #######################################\n",
        "        if attack_mode == 'L-inf':\n",

        "\n",
        "          # Generate the adversarial example\n",
        "          # Clip the values to make sure they are in valid range [0.0, 1.0]\n",
        "          grad = self.gradient(x, y)\n",
        "          x_adv = np.clip(x + (epsilon * np.sign(grad)), 0.0, 1.0)\n",

        "        elif attack_mode == 'L2':\n",

        "\n",
        "          # Generate the adversarial example\n",
        "          # Clip the values to make sure they are in valid range [0.0, 1.0]\n",
        "          max_steps = int(epsilon/alpha)\n",
        "          for _ in range(max_steps):\n",
        "            grad = self.gradient(x, y)\n",
        "            perturbation = alpha * grad / np.linalg.norm(grad)\n",
        "            x_adv = np.clip(x + perturbation, 0.0, 1.0)\n",
        "\n",

        "        elif attack_mode == 'no_constraint':\n",

        "\n",
        "          # Generate the adversarial example without constraint\n",
        "          # Clip the values to make sure they are in valid range [0.0, 1.0]\n",
        "          grad = self.gradient(x, y)\n",
        "          perturbation = epsilon * np.sign(grad)\n",
        "          x_adv = np.clip(x + perturbation, x - epsilon, x + epsilon)\n",
        "          x_adv = np.clip(x, 0.0, 1.0)\n",
        "\n",
        "        else:\n",
        "            raise ValueError(\"Unrecognized attack mode, please choose from ['L-inf', 'L2'].\")\n",
        "        #######################################\n",
        "\n",
        "        return x_adv"
      ]
    },
    {
      "cell_type": "markdown",
      "metadata": {
        "id": "cyEJ1SSFzH6Z"
      },
      "source": [
        "Now, let's load the test data and the pre-trained model."
      ]
    },
    {
      "cell_type": "code",
      "execution_count": 174,
      "metadata": {
        "id": "cUnCsk6qzH6Z"
      },
      "outputs": [],
      "source": [
        "X_test = np.load(\"./X_test.npy\")\n",
        "Y_test = np.load(\"./Y_test.npy\")\n",
        "\n",
        "params = {}\n",
        "param_names = [\"fc1.weight\", \"fc1.bias\",\n",
        "               \"fc2.weight\", \"fc2.bias\",\n",
        "               \"fc3.weight\", \"fc3.bias\",\n",
        "               \"fc4.weight\", \"fc4.bias\"]\n",
        "\n",
        "for name in param_names:\n",
        "    params[name] = np.load(\"./\"+name+'.npy')\n",
        "clf = MultiLayerPerceptron()\n",
        "clf.load_params(params)"
      ]
    },
    {
      "cell_type": "markdown",
      "metadata": {
        "id": "m5VUGwA4zH6Z"
      },
      "source": [
        "Check if the image data are loaded correctly. Let's visualize the first image in the data set."
      ]
    },
    {
      "cell_type": "code",
      "execution_count": 175,
      "metadata": {
        "colab": {
          "base_uri": "https://localhost:8080/",
          "height": 465
        },
        "id": "M6yRJWzzzH6Z",
        "outputId": "b4bf651f-1e61-4c52-ddf0-27141c06f703"
      },
      "outputs": [
        {
          "output_type": "stream",
          "name": "stdout",
          "text": [
            "This is an image of Number 7\n"
          ]
        },
        {
          "output_type": "execute_result",
          "data": {
            "text/plain": [
              "<matplotlib.image.AxesImage at 0x7e7ebbc4e380>"
            ]
          },
          "metadata": {},
          "execution_count": 175
        },
        {
          "output_type": "display_data",
          "data": {
            "text/plain": [
              "<Figure size 640x480 with 1 Axes>"
            ],
            "image/png": "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\n"
          },
          "metadata": {}
        }
      ],
      "source": [
        "x, y = X_test[0], Y_test[0]\n",
        "print (\"This is an image of Number\", y)\n",
        "pixels = x.reshape((28,28))\n",
        "plt.imshow(pixels,cmap=\"gray\")"
      ]
    },
    {
      "cell_type": "markdown",
      "metadata": {
        "id": "VtUaYzMBzH6a"
      },
      "source": [
        "Check if the model is loaded correctly. The test accuracy should be 97.6%"
      ]
    },
    {
      "cell_type": "code",
      "execution_count": 176,
      "metadata": {
        "scrolled": false,
        "colab": {
          "base_uri": "https://localhost:8080/"
        },
        "id": "QstfQcUnzH6a",
        "outputId": "841f5760-b02b-44cc-e1a3-6471ea7974bb"
      },
      "outputs": [
        {
          "output_type": "stream",
          "name": "stderr",
          "text": [
            "100%|██████████| 1000/1000 [00:16<00:00, 60.50it/s]"
          ]
        },
        {
          "output_type": "stream",
          "name": "stdout",
          "text": [
            "Test accuracy is 0.976\n"
          ]
        },
        {
          "output_type": "stream",
          "name": "stderr",
          "text": [
            "\n"
          ]
        }
      ],
      "source": [
        "nTest = 1000\n",
        "Y_pred = np.zeros(nTest)\n",
        "for i in tqdm(range(nTest)):\n",
        "    x, y = X_test[i][np.newaxis, :], Y_test[i]\n",
        "    Y_pred[i] = clf.predict(x)\n",
        "acc = np.sum(Y_pred == Y_test[:nTest])*1.0/nTest\n",
        "print (\"Test accuracy is\", acc)"
      ]
    },
    {
      "cell_type": "markdown",
      "metadata": {
        "id": "YM1okoEQzH6a"
      },
      "source": [
        "__TASK 4. Please generate adversarial examples and check the image.__\n",
        "\n",
        "- Generate an FGSM adversarial example with $\\epsilon=0.1$ **(without *constraint)***.\n",
        "- Generate an PGD adversarial example with $\\epsilon=\\frac{8}{255}$ **(with *constraint)***."
      ]
    },
    {
      "cell_type": "code",
      "execution_count": 177,
      "metadata": {
        "colab": {
          "base_uri": "https://localhost:8080/",
          "height": 861
        },
        "id": "PiICWBslzH6a",
        "outputId": "fba149a4-6d36-4f04-fb8b-bb1ad0f8b8b8"
      },
      "outputs": [
        {
          "output_type": "display_data",
          "data": {
            "text/plain": [
              "<Figure size 640x480 with 1 Axes>"
            ],
            "image/png": "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\n"
          },
          "metadata": {}
        },
        {
          "output_type": "execute_result",
          "data": {
            "text/plain": [
              "<matplotlib.image.AxesImage at 0x7e7ebbb4c5e0>"
            ]
          },
          "metadata": {},
          "execution_count": 177
        },
        {
          "output_type": "display_data",
          "data": {
            "text/plain": [
              "<Figure size 640x480 with 1 Axes>"
            ],
            "image/png": "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\n"
          },
          "metadata": {}
        }
      ],
      "source": [
        "### Output pixels: an FGSM adversarial example with eps=0.1 (without constraint).\n",

        "\n",
        "eps_fgsm = 0.1\n",
        "adv_example_fgsm = clf.attack(X_test[0], Y_test[0], 'no_constraint', eps_fgsm)\n",
        "plt.imshow(adv_example_fgsm.reshape(28, 28), cmap=\"gray\")\n",
        "plt.show()\n",
        "\n",

        "plt.imshow(pixels,cmap=\"gray\")"
      ]
    },
    {
      "cell_type": "code",
      "execution_count": 178,
      "metadata": {
        "colab": {
          "base_uri": "https://localhost:8080/",
          "height": 861
        },
        "id": "Sn-_kOBpzH6a",
        "outputId": "e83c4029-0bd3-4014-c4a2-7be8db86d14c"
      },
      "outputs": [
        {
          "output_type": "display_data",
          "data": {
            "text/plain": [
              "<Figure size 640x480 with 1 Axes>"
            ],
            "image/png": "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\n"
          },
          "metadata": {}
        },
        {
          "output_type": "execute_result",
          "data": {
            "text/plain": [
              "<matplotlib.image.AxesImage at 0x7e7ebba17e80>"
            ]
          },
          "metadata": {},
          "execution_count": 178
        },
        {
          "output_type": "display_data",
          "data": {
            "text/plain": [
              "<Figure size 640x480 with 1 Axes>"
            ],
            "image/png": "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\n"
          },
          "metadata": {}
        }
      ],
      "source": [
        "### Output pixels: a PGD adversarial example with eps=8/255 (L_2 constraint).\n",

        "\n",
        "example_pgd_eps = 8/255\n",
        "example_pgd = clf.attack(X_test[0], Y_test[0], 'L2', example_pgd_eps)\n",
        "plt.imshow(example_pgd.reshape(28, 28), cmap=\"gray\")\n",
        "plt.show()\n",
        "\n",

        "plt.imshow(pixels,cmap=\"gray\")"
      ]
    },
    {
      "cell_type": "markdown",
      "metadata": {
        "id": "NAdUsr82zH6a"
      },
      "source": [
        "__TASK 5. Try the adversarial attack and test the accuracy of using PGD adversarial examples.__\n",
        "\n",
        "You can get a test accuracy of using adversarial examples after running this cell."
      ]
    },
    {
      "cell_type": "code",
      "execution_count": 179,
      "metadata": {
        "tags": [],
        "colab": {
          "base_uri": "https://localhost:8080/"
        },
        "id": "eoXu2_i6zH6a",
        "outputId": "82fe6c38-955c-494c-d252-d74a1a000951"
      },
      "outputs": [
        {
          "output_type": "stream",
          "name": "stderr",
          "text": [
            "100%|██████████| 1000/1000 [01:41<00:00,  9.81it/s]"
          ]
        },
        {
          "output_type": "stream",
          "name": "stdout",
          "text": [
            "Test accuracy of adversarial examples is 0.976\n"
          ]
        },
        {
          "output_type": "stream",
          "name": "stderr",
          "text": [
            "\n"
          ]
        }
      ],
      "source": [
        "### Output acc: the adversarial accuracy.\n",
        "\n",
        "x_number_correct = 0\n",
        "sum = len(X_test)\n",
        "for i in tqdm(range(sum)):\n",
        "  x = X_test[i]\n",
        "  y = Y_test[i]\n",
        "  x_adv = clf.attack(x, y, 'L2', example_pgd_eps)\n",
        "  pred = clf.predict(x_adv)\n",
        "  if pred == y:\n",
        "    x_number_correct += 1\n",
        "\n",
        "accuracy_example = x_number_correct / sum\n",
        "\n",

        "print (\"Test accuracy of adversarial examples is\", accuracy_example)\n"
      ]
    }
  ],
  "metadata": {
    "kernelspec": {
      "display_name": "Python 3 (ipykernel)",
      "language": "python",
      "name": "python3"
    },
    "language_info": {
      "codemirror_mode": {
        "name": "ipython",
        "version": 3
      },
      "file_extension": ".py",
      "mimetype": "text/x-python",
      "name": "python",
      "nbconvert_exporter": "python",
      "pygments_lexer": "ipython3",
      "version": "3.9.13"
    },
    "colab": {
      "provenance": []
    }
  },
  "nbformat": 4,
  "nbformat_minor": 0
}
